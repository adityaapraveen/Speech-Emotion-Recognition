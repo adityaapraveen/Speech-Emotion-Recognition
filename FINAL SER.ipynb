{
  "cells": [
    {
      "cell_type": "code",
      "execution_count": null,
      "metadata": {
        "colab": {
          "base_uri": "https://localhost:8080/"
        },
        "id": "pgw2iSF6Qyic",
        "outputId": "3b70618d-80e2-47c0-beca-3aadf0e7d0bb"
      },
      "outputs": [
        {
          "output_type": "stream",
          "name": "stdout",
          "text": [
            "Mounted at /content/drive/\n"
          ]
        }
      ],
      "source": [
        "from google.colab import drive\n",
        "drive.mount('/content/drive/')"
      ]
    },
    {
      "cell_type": "code",
      "execution_count": null,
      "metadata": {
        "id": "pChe9DPxQzdE"
      },
      "outputs": [],
      "source": [
        "import pandas as pd\n",
        "import numpy as np\n",
        "import os\n",
        "import seaborn as sns\n",
        "import librosa\n",
        "import librosa.display\n",
        "from IPython.display import Audio\n",
        "import warnings\n",
        "warnings.filterwarnings('ignore')"
      ]
    },
    {
      "cell_type": "code",
      "execution_count": null,
      "metadata": {
        "colab": {
          "base_uri": "https://localhost:8080/"
        },
        "id": "u99YJdhdQ7E4",
        "outputId": "455c0a78-4883-4085-a857-0f612047bb94"
      },
      "outputs": [
        {
          "output_type": "stream",
          "name": "stdout",
          "text": [
            "Dataset is Loaded\n"
          ]
        }
      ],
      "source": [
        "paths = []\n",
        "labels = []\n",
        "for dirname, _, filenames in os.walk('/content/drive/MyDrive/TESS Toronto emotional speech set data'):\n",
        "  for filename in filenames:\n",
        "    paths.append(os.path.join(dirname, filename))\n",
        "    # print(filename)\n",
        "    label = filename.split('_')[-1]\n",
        "    # print(label)\n",
        "    label = label.split('.')[0]\n",
        "    labels.append(label.lower())\n",
        "print('Dataset is Loaded')\n"
      ]
    },
    {
      "cell_type": "code",
      "execution_count": null,
      "metadata": {
        "colab": {
          "base_uri": "https://localhost:8080/"
        },
        "id": "XDR7dCS1Q95m",
        "outputId": "0469ccad-597b-4119-968e-7c5e72898c81"
      },
      "outputs": [
        {
          "output_type": "execute_result",
          "data": {
            "text/plain": [
              "['/content/drive/MyDrive/TESS Toronto emotional speech set data/YAF_angry/YAF_bought_angry.wav',\n",
              " '/content/drive/MyDrive/TESS Toronto emotional speech set data/YAF_angry/YAF_base_angry.wav',\n",
              " '/content/drive/MyDrive/TESS Toronto emotional speech set data/YAF_angry/YAF_burn_angry.wav',\n",
              " '/content/drive/MyDrive/TESS Toronto emotional speech set data/YAF_angry/YAF_bar_angry.wav',\n",
              " '/content/drive/MyDrive/TESS Toronto emotional speech set data/YAF_angry/YAF_back_angry.wav']"
            ]
          },
          "metadata": {},
          "execution_count": 4
        }
      ],
      "source": [
        "paths[:5]"
      ]
    },
    {
      "cell_type": "code",
      "execution_count": null,
      "metadata": {
        "colab": {
          "base_uri": "https://localhost:8080/"
        },
        "id": "kOqwr_51RCmm",
        "outputId": "548ade51-325e-4f77-c0c5-5480514e7b2e"
      },
      "outputs": [
        {
          "output_type": "execute_result",
          "data": {
            "text/plain": [
              "['angry', 'angry', 'angry', 'angry', 'angry']"
            ]
          },
          "metadata": {},
          "execution_count": 5
        }
      ],
      "source": [
        "labels[:5]"
      ]
    },
    {
      "cell_type": "code",
      "execution_count": null,
      "metadata": {
        "colab": {
          "base_uri": "https://localhost:8080/",
          "height": 206
        },
        "id": "UCvGzP_qRI9J",
        "outputId": "142c2ee6-be72-4e57-a5ed-771eb5cbd269"
      },
      "outputs": [
        {
          "output_type": "execute_result",
          "data": {
            "text/plain": [
              "                                              speech  label\n",
              "0  /content/drive/MyDrive/TESS Toronto emotional ...  angry\n",
              "1  /content/drive/MyDrive/TESS Toronto emotional ...  angry\n",
              "2  /content/drive/MyDrive/TESS Toronto emotional ...  angry\n",
              "3  /content/drive/MyDrive/TESS Toronto emotional ...  angry\n",
              "4  /content/drive/MyDrive/TESS Toronto emotional ...  angry"
            ],
            "text/html": [
              "\n",
              "  <div id=\"df-a4ba5364-6cc0-4f53-81b9-a5dd3b6ab6e1\" class=\"colab-df-container\">\n",
              "    <div>\n",
              "<style scoped>\n",
              "    .dataframe tbody tr th:only-of-type {\n",
              "        vertical-align: middle;\n",
              "    }\n",
              "\n",
              "    .dataframe tbody tr th {\n",
              "        vertical-align: top;\n",
              "    }\n",
              "\n",
              "    .dataframe thead th {\n",
              "        text-align: right;\n",
              "    }\n",
              "</style>\n",
              "<table border=\"1\" class=\"dataframe\">\n",
              "  <thead>\n",
              "    <tr style=\"text-align: right;\">\n",
              "      <th></th>\n",
              "      <th>speech</th>\n",
              "      <th>label</th>\n",
              "    </tr>\n",
              "  </thead>\n",
              "  <tbody>\n",
              "    <tr>\n",
              "      <th>0</th>\n",
              "      <td>/content/drive/MyDrive/TESS Toronto emotional ...</td>\n",
              "      <td>angry</td>\n",
              "    </tr>\n",
              "    <tr>\n",
              "      <th>1</th>\n",
              "      <td>/content/drive/MyDrive/TESS Toronto emotional ...</td>\n",
              "      <td>angry</td>\n",
              "    </tr>\n",
              "    <tr>\n",
              "      <th>2</th>\n",
              "      <td>/content/drive/MyDrive/TESS Toronto emotional ...</td>\n",
              "      <td>angry</td>\n",
              "    </tr>\n",
              "    <tr>\n",
              "      <th>3</th>\n",
              "      <td>/content/drive/MyDrive/TESS Toronto emotional ...</td>\n",
              "      <td>angry</td>\n",
              "    </tr>\n",
              "    <tr>\n",
              "      <th>4</th>\n",
              "      <td>/content/drive/MyDrive/TESS Toronto emotional ...</td>\n",
              "      <td>angry</td>\n",
              "    </tr>\n",
              "  </tbody>\n",
              "</table>\n",
              "</div>\n",
              "    <div class=\"colab-df-buttons\">\n",
              "\n",
              "  <div class=\"colab-df-container\">\n",
              "    <button class=\"colab-df-convert\" onclick=\"convertToInteractive('df-a4ba5364-6cc0-4f53-81b9-a5dd3b6ab6e1')\"\n",
              "            title=\"Convert this dataframe to an interactive table.\"\n",
              "            style=\"display:none;\">\n",
              "\n",
              "  <svg xmlns=\"http://www.w3.org/2000/svg\" height=\"24px\" viewBox=\"0 -960 960 960\">\n",
              "    <path d=\"M120-120v-720h720v720H120Zm60-500h600v-160H180v160Zm220 220h160v-160H400v160Zm0 220h160v-160H400v160ZM180-400h160v-160H180v160Zm440 0h160v-160H620v160ZM180-180h160v-160H180v160Zm440 0h160v-160H620v160Z\"/>\n",
              "  </svg>\n",
              "    </button>\n",
              "\n",
              "  <style>\n",
              "    .colab-df-container {\n",
              "      display:flex;\n",
              "      gap: 12px;\n",
              "    }\n",
              "\n",
              "    .colab-df-convert {\n",
              "      background-color: #E8F0FE;\n",
              "      border: none;\n",
              "      border-radius: 50%;\n",
              "      cursor: pointer;\n",
              "      display: none;\n",
              "      fill: #1967D2;\n",
              "      height: 32px;\n",
              "      padding: 0 0 0 0;\n",
              "      width: 32px;\n",
              "    }\n",
              "\n",
              "    .colab-df-convert:hover {\n",
              "      background-color: #E2EBFA;\n",
              "      box-shadow: 0px 1px 2px rgba(60, 64, 67, 0.3), 0px 1px 3px 1px rgba(60, 64, 67, 0.15);\n",
              "      fill: #174EA6;\n",
              "    }\n",
              "\n",
              "    .colab-df-buttons div {\n",
              "      margin-bottom: 4px;\n",
              "    }\n",
              "\n",
              "    [theme=dark] .colab-df-convert {\n",
              "      background-color: #3B4455;\n",
              "      fill: #D2E3FC;\n",
              "    }\n",
              "\n",
              "    [theme=dark] .colab-df-convert:hover {\n",
              "      background-color: #434B5C;\n",
              "      box-shadow: 0px 1px 3px 1px rgba(0, 0, 0, 0.15);\n",
              "      filter: drop-shadow(0px 1px 2px rgba(0, 0, 0, 0.3));\n",
              "      fill: #FFFFFF;\n",
              "    }\n",
              "  </style>\n",
              "\n",
              "    <script>\n",
              "      const buttonEl =\n",
              "        document.querySelector('#df-a4ba5364-6cc0-4f53-81b9-a5dd3b6ab6e1 button.colab-df-convert');\n",
              "      buttonEl.style.display =\n",
              "        google.colab.kernel.accessAllowed ? 'block' : 'none';\n",
              "\n",
              "      async function convertToInteractive(key) {\n",
              "        const element = document.querySelector('#df-a4ba5364-6cc0-4f53-81b9-a5dd3b6ab6e1');\n",
              "        const dataTable =\n",
              "          await google.colab.kernel.invokeFunction('convertToInteractive',\n",
              "                                                    [key], {});\n",
              "        if (!dataTable) return;\n",
              "\n",
              "        const docLinkHtml = 'Like what you see? Visit the ' +\n",
              "          '<a target=\"_blank\" href=https://colab.research.google.com/notebooks/data_table.ipynb>data table notebook</a>'\n",
              "          + ' to learn more about interactive tables.';\n",
              "        element.innerHTML = '';\n",
              "        dataTable['output_type'] = 'display_data';\n",
              "        await google.colab.output.renderOutput(dataTable, element);\n",
              "        const docLink = document.createElement('div');\n",
              "        docLink.innerHTML = docLinkHtml;\n",
              "        element.appendChild(docLink);\n",
              "      }\n",
              "    </script>\n",
              "  </div>\n",
              "\n",
              "\n",
              "<div id=\"df-005dcc75-d481-44b7-abc3-a7bf320496e0\">\n",
              "  <button class=\"colab-df-quickchart\" onclick=\"quickchart('df-005dcc75-d481-44b7-abc3-a7bf320496e0')\"\n",
              "            title=\"Suggest charts\"\n",
              "            style=\"display:none;\">\n",
              "\n",
              "<svg xmlns=\"http://www.w3.org/2000/svg\" height=\"24px\"viewBox=\"0 0 24 24\"\n",
              "     width=\"24px\">\n",
              "    <g>\n",
              "        <path d=\"M19 3H5c-1.1 0-2 .9-2 2v14c0 1.1.9 2 2 2h14c1.1 0 2-.9 2-2V5c0-1.1-.9-2-2-2zM9 17H7v-7h2v7zm4 0h-2V7h2v10zm4 0h-2v-4h2v4z\"/>\n",
              "    </g>\n",
              "</svg>\n",
              "  </button>\n",
              "\n",
              "<style>\n",
              "  .colab-df-quickchart {\n",
              "      --bg-color: #E8F0FE;\n",
              "      --fill-color: #1967D2;\n",
              "      --hover-bg-color: #E2EBFA;\n",
              "      --hover-fill-color: #174EA6;\n",
              "      --disabled-fill-color: #AAA;\n",
              "      --disabled-bg-color: #DDD;\n",
              "  }\n",
              "\n",
              "  [theme=dark] .colab-df-quickchart {\n",
              "      --bg-color: #3B4455;\n",
              "      --fill-color: #D2E3FC;\n",
              "      --hover-bg-color: #434B5C;\n",
              "      --hover-fill-color: #FFFFFF;\n",
              "      --disabled-bg-color: #3B4455;\n",
              "      --disabled-fill-color: #666;\n",
              "  }\n",
              "\n",
              "  .colab-df-quickchart {\n",
              "    background-color: var(--bg-color);\n",
              "    border: none;\n",
              "    border-radius: 50%;\n",
              "    cursor: pointer;\n",
              "    display: none;\n",
              "    fill: var(--fill-color);\n",
              "    height: 32px;\n",
              "    padding: 0;\n",
              "    width: 32px;\n",
              "  }\n",
              "\n",
              "  .colab-df-quickchart:hover {\n",
              "    background-color: var(--hover-bg-color);\n",
              "    box-shadow: 0 1px 2px rgba(60, 64, 67, 0.3), 0 1px 3px 1px rgba(60, 64, 67, 0.15);\n",
              "    fill: var(--button-hover-fill-color);\n",
              "  }\n",
              "\n",
              "  .colab-df-quickchart-complete:disabled,\n",
              "  .colab-df-quickchart-complete:disabled:hover {\n",
              "    background-color: var(--disabled-bg-color);\n",
              "    fill: var(--disabled-fill-color);\n",
              "    box-shadow: none;\n",
              "  }\n",
              "\n",
              "  .colab-df-spinner {\n",
              "    border: 2px solid var(--fill-color);\n",
              "    border-color: transparent;\n",
              "    border-bottom-color: var(--fill-color);\n",
              "    animation:\n",
              "      spin 1s steps(1) infinite;\n",
              "  }\n",
              "\n",
              "  @keyframes spin {\n",
              "    0% {\n",
              "      border-color: transparent;\n",
              "      border-bottom-color: var(--fill-color);\n",
              "      border-left-color: var(--fill-color);\n",
              "    }\n",
              "    20% {\n",
              "      border-color: transparent;\n",
              "      border-left-color: var(--fill-color);\n",
              "      border-top-color: var(--fill-color);\n",
              "    }\n",
              "    30% {\n",
              "      border-color: transparent;\n",
              "      border-left-color: var(--fill-color);\n",
              "      border-top-color: var(--fill-color);\n",
              "      border-right-color: var(--fill-color);\n",
              "    }\n",
              "    40% {\n",
              "      border-color: transparent;\n",
              "      border-right-color: var(--fill-color);\n",
              "      border-top-color: var(--fill-color);\n",
              "    }\n",
              "    60% {\n",
              "      border-color: transparent;\n",
              "      border-right-color: var(--fill-color);\n",
              "    }\n",
              "    80% {\n",
              "      border-color: transparent;\n",
              "      border-right-color: var(--fill-color);\n",
              "      border-bottom-color: var(--fill-color);\n",
              "    }\n",
              "    90% {\n",
              "      border-color: transparent;\n",
              "      border-bottom-color: var(--fill-color);\n",
              "    }\n",
              "  }\n",
              "</style>\n",
              "\n",
              "  <script>\n",
              "    async function quickchart(key) {\n",
              "      const quickchartButtonEl =\n",
              "        document.querySelector('#' + key + ' button');\n",
              "      quickchartButtonEl.disabled = true;  // To prevent multiple clicks.\n",
              "      quickchartButtonEl.classList.add('colab-df-spinner');\n",
              "      try {\n",
              "        const charts = await google.colab.kernel.invokeFunction(\n",
              "            'suggestCharts', [key], {});\n",
              "      } catch (error) {\n",
              "        console.error('Error during call to suggestCharts:', error);\n",
              "      }\n",
              "      quickchartButtonEl.classList.remove('colab-df-spinner');\n",
              "      quickchartButtonEl.classList.add('colab-df-quickchart-complete');\n",
              "    }\n",
              "    (() => {\n",
              "      let quickchartButtonEl =\n",
              "        document.querySelector('#df-005dcc75-d481-44b7-abc3-a7bf320496e0 button');\n",
              "      quickchartButtonEl.style.display =\n",
              "        google.colab.kernel.accessAllowed ? 'block' : 'none';\n",
              "    })();\n",
              "  </script>\n",
              "</div>\n",
              "    </div>\n",
              "  </div>\n"
            ],
            "application/vnd.google.colaboratory.intrinsic+json": {
              "type": "dataframe",
              "variable_name": "df",
              "summary": "{\n  \"name\": \"df\",\n  \"rows\": 5600,\n  \"fields\": [\n    {\n      \"column\": \"speech\",\n      \"properties\": {\n        \"dtype\": \"string\",\n        \"num_unique_values\": 5600,\n        \"samples\": [\n          \"/content/drive/MyDrive/TESS Toronto emotional speech set data/YAF_pleasant_surprised/YAF_witch_ps.wav\",\n          \"/content/drive/MyDrive/TESS Toronto emotional speech set data/OAF_Sad/OAF_jar_sad.wav\",\n          \"/content/drive/MyDrive/TESS Toronto emotional speech set data/TESS Toronto emotional speech set data/YAF_disgust/YAF_boat_disgust.wav\"\n        ],\n        \"semantic_type\": \"\",\n        \"description\": \"\"\n      }\n    },\n    {\n      \"column\": \"label\",\n      \"properties\": {\n        \"dtype\": \"category\",\n        \"num_unique_values\": 7,\n        \"samples\": [\n          \"angry\",\n          \"fear\",\n          \"ps\"\n        ],\n        \"semantic_type\": \"\",\n        \"description\": \"\"\n      }\n    }\n  ]\n}"
            }
          },
          "metadata": {},
          "execution_count": 6
        }
      ],
      "source": [
        "##create a dataframe\n",
        "df = pd.DataFrame()\n",
        "df['speech'] = paths\n",
        "df['label'] = labels\n",
        "df.head()"
      ]
    },
    {
      "cell_type": "code",
      "execution_count": null,
      "metadata": {
        "id": "lARdasOERLGG"
      },
      "outputs": [],
      "source": [
        "def extract_mfcc(filename):\n",
        "  y, sr = librosa.load(filename, duration=3, offset=0.5)\n",
        "  mfcc = np.mean(librosa.feature.mfcc(y=y, sr=sr, n_mfcc=40).T, axis=0)\n",
        "  return mfcc"
      ]
    },
    {
      "cell_type": "code",
      "execution_count": null,
      "metadata": {
        "colab": {
          "base_uri": "https://localhost:8080/"
        },
        "id": "U-mLaz6vRNiH",
        "outputId": "eb69a7a1-acaa-4fcf-fbe3-5f3b515ef6fc"
      },
      "outputs": [
        {
          "output_type": "execute_result",
          "data": {
            "text/plain": [
              "array([-3.5403134e+02,  5.3507679e+01, -6.6787190e+00,  3.2752794e-01,\n",
              "       -2.9446516e+01,  6.3578453e+00,  4.1013818e+00, -1.9642618e+01,\n",
              "       -2.0833244e+00,  1.7922984e+00, -1.4493582e+01,  9.1661568e+00,\n",
              "       -9.8589067e+00,  5.4053144e+00,  1.3328303e-01, -8.5065470e+00,\n",
              "        1.5562576e+00,  1.3521976e+00, -7.5838165e+00,  3.5279758e+00,\n",
              "       -2.3671410e+00, -2.6570652e+00, -2.8023188e+00, -1.2182224e+00,\n",
              "       -3.4724441e-01,  7.5056272e+00,  1.0552016e+01,  1.1414539e+01,\n",
              "        1.1704172e+01,  7.9567084e+00,  8.4932804e-01,  2.3558936e+00,\n",
              "       -2.5685732e+00,  2.7504137e+00,  1.6989278e+00, -1.0697829e+00,\n",
              "       -2.2785194e+00, -2.8954208e+00,  1.9441764e+00,  3.8444636e+00],\n",
              "      dtype=float32)"
            ]
          },
          "metadata": {},
          "execution_count": 8
        }
      ],
      "source": [
        "extract_mfcc(df['speech'][0])"
      ]
    },
    {
      "cell_type": "code",
      "execution_count": null,
      "metadata": {
        "id": "JRC_gs6aRPQI"
      },
      "outputs": [],
      "source": [
        "X_mfcc = df['speech'].apply(lambda x: extract_mfcc(x))"
      ]
    },
    {
      "cell_type": "code",
      "execution_count": null,
      "metadata": {
        "colab": {
          "base_uri": "https://localhost:8080/"
        },
        "id": "egkCfsePRSbw",
        "outputId": "34b506be-fadf-4263-cac1-f6344220d6db"
      },
      "outputs": [
        {
          "output_type": "execute_result",
          "data": {
            "text/plain": [
              "0       [-354.03134, 53.50768, -6.678719, 0.32752794, ...\n",
              "1       [-329.51895, 22.86458, 1.3039654, 8.73677, -19...\n",
              "2       [-316.56366, 109.3681, -7.4545336, -4.5025764,...\n",
              "3       [-323.86, 70.17526, -5.0372443, -14.311751, -3...\n",
              "4       [-339.3216, 50.24379, -21.820583, 13.099628, -...\n",
              "                              ...                        \n",
              "5595    [-428.04822, 57.957573, 1.2415637, 37.944313, ...\n",
              "5596    [-374.48767, 72.036545, 12.567796, 18.573978, ...\n",
              "5597    [-409.49863, 89.658905, -4.345877, 25.175097, ...\n",
              "5598    [-420.40222, 80.02803, 6.293351, 32.179897, 2....\n",
              "5599    [-391.8462, 100.0138, -3.7448769, 24.643173, 1...\n",
              "Name: speech, Length: 5600, dtype: object"
            ]
          },
          "metadata": {},
          "execution_count": 10
        }
      ],
      "source": [
        "X_mfcc"
      ]
    },
    {
      "cell_type": "code",
      "execution_count": null,
      "metadata": {
        "colab": {
          "base_uri": "https://localhost:8080/"
        },
        "id": "LHwrWc-IRV9N",
        "outputId": "6f0f43b9-510d-4c0d-cf19-ffd72569e74e"
      },
      "outputs": [
        {
          "output_type": "execute_result",
          "data": {
            "text/plain": [
              "(5600, 40)"
            ]
          },
          "metadata": {},
          "execution_count": 11
        }
      ],
      "source": [
        "X = [x for x in X_mfcc]\n",
        "X = np.array(X)\n",
        "X.shape"
      ]
    },
    {
      "cell_type": "code",
      "execution_count": null,
      "metadata": {
        "id": "4HB2Bb7zRZEL"
      },
      "outputs": [],
      "source": [
        "from sklearn.preprocessing import OneHotEncoder\n",
        "enc = OneHotEncoder()\n",
        "y = enc.fit_transform(df[['label']])"
      ]
    },
    {
      "cell_type": "code",
      "execution_count": null,
      "metadata": {
        "id": "nbOhugIhRb4x"
      },
      "outputs": [],
      "source": [
        "y = y.toarray()"
      ]
    },
    {
      "cell_type": "code",
      "execution_count": null,
      "metadata": {
        "id": "B2aqVJRfReVx",
        "colab": {
          "base_uri": "https://localhost:8080/",
          "height": 141
        },
        "outputId": "e7d19d9f-4e23-494c-9005-ce67a3f750cc"
      },
      "outputs": [
        {
          "output_type": "error",
          "ename": "TypeError",
          "evalue": "'tuple' object is not callable",
          "traceback": [
            "\u001b[0;31m---------------------------------------------------------------------------\u001b[0m",
            "\u001b[0;31mTypeError\u001b[0m                                 Traceback (most recent call last)",
            "\u001b[0;32m<ipython-input-14-c5cc93b6f9c2>\u001b[0m in \u001b[0;36m<cell line: 1>\u001b[0;34m()\u001b[0m\n\u001b[0;32m----> 1\u001b[0;31m \u001b[0my\u001b[0m\u001b[0;34m.\u001b[0m\u001b[0mshape\u001b[0m\u001b[0;34m(\u001b[0m\u001b[0;34m)\u001b[0m\u001b[0;34m\u001b[0m\u001b[0;34m\u001b[0m\u001b[0m\n\u001b[0m",
            "\u001b[0;31mTypeError\u001b[0m: 'tuple' object is not callable"
          ]
        }
      ],
      "source": [
        "y.shape()"
      ]
    },
    {
      "cell_type": "code",
      "execution_count": null,
      "metadata": {
        "id": "KlHf4onQRgbk"
      },
      "outputs": [],
      "source": [
        "from sklearn.model_selection import train_test_split\n",
        "\n",
        "X_train, X_test, y_train, y_test = train_test_split(X, y, test_size=0.2, random_state=42)\n"
      ]
    },
    {
      "cell_type": "code",
      "execution_count": null,
      "metadata": {
        "id": "XinjukeVRjZa",
        "colab": {
          "base_uri": "https://localhost:8080/"
        },
        "outputId": "ed6d2a75-59e7-4041-d8bb-051ee4b87f53"
      },
      "outputs": [
        {
          "output_type": "stream",
          "name": "stdout",
          "text": [
            "Model: \"sequential\"\n",
            "_________________________________________________________________\n",
            " Layer (type)                Output Shape              Param #   \n",
            "=================================================================\n",
            " lstm (LSTM)                 (None, 256)               264192    \n",
            "                                                                 \n",
            " dropout (Dropout)           (None, 256)               0         \n",
            "                                                                 \n",
            " dense (Dense)               (None, 128)               32896     \n",
            "                                                                 \n",
            " dropout_1 (Dropout)         (None, 128)               0         \n",
            "                                                                 \n",
            " dense_1 (Dense)             (None, 64)                8256      \n",
            "                                                                 \n",
            " dropout_2 (Dropout)         (None, 64)                0         \n",
            "                                                                 \n",
            " dense_2 (Dense)             (None, 7)                 455       \n",
            "                                                                 \n",
            "=================================================================\n",
            "Total params: 305799 (1.17 MB)\n",
            "Trainable params: 305799 (1.17 MB)\n",
            "Non-trainable params: 0 (0.00 Byte)\n",
            "_________________________________________________________________\n"
          ]
        }
      ],
      "source": [
        "from keras.models import Sequential\n",
        "from keras.layers import Dense, LSTM, Dropout\n",
        "\n",
        "model = Sequential([\n",
        "    LSTM(256, return_sequences=False, input_shape=(40,1)),\n",
        "    Dropout(0.2),\n",
        "    Dense(128, activation='relu'),\n",
        "    Dropout(0.2),\n",
        "    Dense(64, activation='relu'),\n",
        "    Dropout(0.2),\n",
        "    Dense(7, activation='softmax')\n",
        "])\n",
        "\n",
        "model.compile(loss='categorical_crossentropy', optimizer='adam', metrics=['accuracy'])\n",
        "model.summary()"
      ]
    },
    {
      "cell_type": "code",
      "execution_count": null,
      "metadata": {
        "id": "JNXuUxhERloX",
        "colab": {
          "base_uri": "https://localhost:8080/"
        },
        "outputId": "489cd018-813d-4d6c-9872-ccc0597f3b29"
      },
      "outputs": [
        {
          "output_type": "stream",
          "name": "stdout",
          "text": [
            "Epoch 1/50\n",
            "56/56 [==============================] - 10s 188ms/step - loss: 3.7139e-04 - accuracy: 1.0000 - val_loss: 0.0274 - val_accuracy: 0.9944\n",
            "Epoch 2/50\n",
            "56/56 [==============================] - 10s 177ms/step - loss: 3.1335e-04 - accuracy: 1.0000 - val_loss: 0.0284 - val_accuracy: 0.9955\n",
            "Epoch 3/50\n",
            "56/56 [==============================] - 8s 140ms/step - loss: 1.7517e-04 - accuracy: 1.0000 - val_loss: 0.0315 - val_accuracy: 0.9967\n",
            "Epoch 4/50\n",
            "56/56 [==============================] - 8s 144ms/step - loss: 1.7335e-04 - accuracy: 1.0000 - val_loss: 0.0310 - val_accuracy: 0.9967\n",
            "Epoch 5/50\n",
            "56/56 [==============================] - 7s 134ms/step - loss: 1.5391e-04 - accuracy: 1.0000 - val_loss: 0.0320 - val_accuracy: 0.9967\n",
            "Epoch 6/50\n",
            "56/56 [==============================] - 8s 145ms/step - loss: 1.1441e-04 - accuracy: 1.0000 - val_loss: 0.0316 - val_accuracy: 0.9967\n",
            "Epoch 7/50\n",
            "56/56 [==============================] - 8s 145ms/step - loss: 1.4551e-04 - accuracy: 1.0000 - val_loss: 0.0318 - val_accuracy: 0.9967\n",
            "Epoch 8/50\n",
            "56/56 [==============================] - 8s 144ms/step - loss: 1.1951e-04 - accuracy: 1.0000 - val_loss: 0.0312 - val_accuracy: 0.9967\n",
            "Epoch 9/50\n",
            "56/56 [==============================] - 8s 146ms/step - loss: 6.5880e-05 - accuracy: 1.0000 - val_loss: 0.0309 - val_accuracy: 0.9967\n",
            "Epoch 10/50\n",
            "56/56 [==============================] - 10s 171ms/step - loss: 9.7341e-05 - accuracy: 1.0000 - val_loss: 0.0309 - val_accuracy: 0.9967\n",
            "Epoch 11/50\n",
            "56/56 [==============================] - 8s 135ms/step - loss: 1.0710e-04 - accuracy: 1.0000 - val_loss: 0.0291 - val_accuracy: 0.9967\n",
            "Epoch 12/50\n",
            "56/56 [==============================] - 8s 149ms/step - loss: 7.6404e-05 - accuracy: 1.0000 - val_loss: 0.0291 - val_accuracy: 0.9967\n",
            "Epoch 13/50\n",
            "56/56 [==============================] - 8s 143ms/step - loss: 4.4269e-05 - accuracy: 1.0000 - val_loss: 0.0297 - val_accuracy: 0.9967\n",
            "Epoch 14/50\n",
            "56/56 [==============================] - 8s 139ms/step - loss: 6.1304e-05 - accuracy: 1.0000 - val_loss: 0.0298 - val_accuracy: 0.9967\n",
            "Epoch 15/50\n",
            "56/56 [==============================] - 8s 145ms/step - loss: 6.7538e-05 - accuracy: 1.0000 - val_loss: 0.0305 - val_accuracy: 0.9967\n",
            "Epoch 16/50\n",
            "56/56 [==============================] - 8s 137ms/step - loss: 6.9076e-05 - accuracy: 1.0000 - val_loss: 0.0312 - val_accuracy: 0.9967\n",
            "Epoch 17/50\n",
            "56/56 [==============================] - 8s 144ms/step - loss: 3.8820e-05 - accuracy: 1.0000 - val_loss: 0.0315 - val_accuracy: 0.9967\n",
            "Epoch 18/50\n",
            "56/56 [==============================] - 8s 146ms/step - loss: 6.1472e-05 - accuracy: 1.0000 - val_loss: 0.0325 - val_accuracy: 0.9967\n",
            "Epoch 19/50\n",
            "56/56 [==============================] - 8s 137ms/step - loss: 7.9072e-05 - accuracy: 1.0000 - val_loss: 0.0354 - val_accuracy: 0.9967\n",
            "Epoch 20/50\n",
            "56/56 [==============================] - 8s 143ms/step - loss: 4.8395e-05 - accuracy: 1.0000 - val_loss: 0.0358 - val_accuracy: 0.9967\n",
            "Epoch 21/50\n",
            "56/56 [==============================] - 8s 146ms/step - loss: 5.9750e-05 - accuracy: 1.0000 - val_loss: 0.0376 - val_accuracy: 0.9967\n",
            "Epoch 22/50\n",
            "56/56 [==============================] - 8s 134ms/step - loss: 7.5278e-05 - accuracy: 1.0000 - val_loss: 0.0381 - val_accuracy: 0.9967\n",
            "Epoch 23/50\n",
            "56/56 [==============================] - 8s 145ms/step - loss: 2.5950e-05 - accuracy: 1.0000 - val_loss: 0.0374 - val_accuracy: 0.9967\n",
            "Epoch 24/50\n",
            "56/56 [==============================] - 8s 149ms/step - loss: 3.1705e-05 - accuracy: 1.0000 - val_loss: 0.0376 - val_accuracy: 0.9967\n",
            "Epoch 25/50\n",
            "56/56 [==============================] - 8s 135ms/step - loss: 2.5905e-05 - accuracy: 1.0000 - val_loss: 0.0375 - val_accuracy: 0.9967\n",
            "Epoch 26/50\n",
            "56/56 [==============================] - 8s 146ms/step - loss: 2.2404e-05 - accuracy: 1.0000 - val_loss: 0.0374 - val_accuracy: 0.9967\n",
            "Epoch 27/50\n",
            "56/56 [==============================] - 8s 144ms/step - loss: 3.8966e-05 - accuracy: 1.0000 - val_loss: 0.0370 - val_accuracy: 0.9967\n",
            "Epoch 28/50\n",
            "56/56 [==============================] - 8s 137ms/step - loss: 4.9288e-05 - accuracy: 1.0000 - val_loss: 0.0358 - val_accuracy: 0.9967\n",
            "Epoch 29/50\n",
            "56/56 [==============================] - 8s 145ms/step - loss: 2.4372e-05 - accuracy: 1.0000 - val_loss: 0.0360 - val_accuracy: 0.9967\n",
            "Epoch 30/50\n",
            "56/56 [==============================] - 8s 140ms/step - loss: 3.1393e-05 - accuracy: 1.0000 - val_loss: 0.0362 - val_accuracy: 0.9967\n",
            "Epoch 31/50\n",
            "56/56 [==============================] - 8s 139ms/step - loss: 5.6469e-05 - accuracy: 1.0000 - val_loss: 0.0372 - val_accuracy: 0.9967\n",
            "Epoch 32/50\n",
            "56/56 [==============================] - 8s 149ms/step - loss: 1.9997e-05 - accuracy: 1.0000 - val_loss: 0.0384 - val_accuracy: 0.9967\n",
            "Epoch 33/50\n",
            "56/56 [==============================] - 8s 136ms/step - loss: 4.5873e-05 - accuracy: 1.0000 - val_loss: 0.0398 - val_accuracy: 0.9967\n",
            "Epoch 34/50\n",
            "56/56 [==============================] - 8s 142ms/step - loss: 2.3886e-05 - accuracy: 1.0000 - val_loss: 0.0400 - val_accuracy: 0.9967\n",
            "Epoch 35/50\n",
            "56/56 [==============================] - 8s 145ms/step - loss: 2.2145e-05 - accuracy: 1.0000 - val_loss: 0.0402 - val_accuracy: 0.9967\n",
            "Epoch 36/50\n",
            "56/56 [==============================] - 8s 134ms/step - loss: 1.9121e-05 - accuracy: 1.0000 - val_loss: 0.0402 - val_accuracy: 0.9967\n",
            "Epoch 37/50\n",
            "56/56 [==============================] - 8s 146ms/step - loss: 3.7667e-05 - accuracy: 1.0000 - val_loss: 0.0407 - val_accuracy: 0.9967\n",
            "Epoch 38/50\n",
            "56/56 [==============================] - 8s 146ms/step - loss: 1.9224e-05 - accuracy: 1.0000 - val_loss: 0.0415 - val_accuracy: 0.9967\n",
            "Epoch 39/50\n",
            "56/56 [==============================] - 8s 135ms/step - loss: 1.2810e-05 - accuracy: 1.0000 - val_loss: 0.0414 - val_accuracy: 0.9967\n",
            "Epoch 40/50\n",
            "56/56 [==============================] - 8s 146ms/step - loss: 1.1935e-04 - accuracy: 1.0000 - val_loss: 0.0415 - val_accuracy: 0.9967\n",
            "Epoch 41/50\n",
            "56/56 [==============================] - 8s 145ms/step - loss: 1.7475e-05 - accuracy: 1.0000 - val_loss: 0.0412 - val_accuracy: 0.9967\n",
            "Epoch 42/50\n",
            "56/56 [==============================] - 8s 134ms/step - loss: 3.3426e-05 - accuracy: 1.0000 - val_loss: 0.0399 - val_accuracy: 0.9967\n",
            "Epoch 43/50\n",
            "56/56 [==============================] - 8s 145ms/step - loss: 0.2384 - accuracy: 0.9506 - val_loss: 0.4619 - val_accuracy: 0.8806\n",
            "Epoch 44/50\n",
            "56/56 [==============================] - 8s 141ms/step - loss: 0.1662 - accuracy: 0.9568 - val_loss: 0.0716 - val_accuracy: 0.9754\n",
            "Epoch 45/50\n",
            "56/56 [==============================] - 8s 138ms/step - loss: 0.0805 - accuracy: 0.9735 - val_loss: 0.0738 - val_accuracy: 0.9732\n",
            "Epoch 46/50\n",
            "56/56 [==============================] - 8s 146ms/step - loss: 0.0678 - accuracy: 0.9780 - val_loss: 0.0263 - val_accuracy: 0.9922\n",
            "Epoch 47/50\n",
            "56/56 [==============================] - 8s 138ms/step - loss: 0.0193 - accuracy: 0.9941 - val_loss: 0.0358 - val_accuracy: 0.9911\n",
            "Epoch 48/50\n",
            "56/56 [==============================] - 8s 147ms/step - loss: 0.0135 - accuracy: 0.9964 - val_loss: 0.0183 - val_accuracy: 0.9944\n",
            "Epoch 49/50\n",
            "56/56 [==============================] - 8s 145ms/step - loss: 0.0110 - accuracy: 0.9972 - val_loss: 0.0354 - val_accuracy: 0.9900\n",
            "Epoch 50/50\n",
            "56/56 [==============================] - 8s 137ms/step - loss: 0.0066 - accuracy: 0.9983 - val_loss: 0.0241 - val_accuracy: 0.9933\n"
          ]
        }
      ],
      "source": [
        "# Train the model\n",
        "history = model.fit(X_train, y_train, validation_split=0.2, epochs=50, batch_size=64)\n"
      ]
    },
    {
      "cell_type": "code",
      "execution_count": null,
      "metadata": {
        "id": "7_CxbPCTRoH-",
        "colab": {
          "base_uri": "https://localhost:8080/"
        },
        "outputId": "8bdc0c12-5036-4c72-fb59-ff4abb456558"
      },
      "outputs": [
        {
          "output_type": "stream",
          "name": "stdout",
          "text": [
            "35/35 [==============================] - 1s 20ms/step\n"
          ]
        }
      ],
      "source": [
        "y_pred = model.predict(X_test)\n"
      ]
    },
    {
      "cell_type": "code",
      "execution_count": null,
      "metadata": {
        "id": "h_XNUfpDRqaV"
      },
      "outputs": [],
      "source": [
        "predicted_labels = np.argmax(y_pred, axis=1)\n"
      ]
    },
    {
      "cell_type": "code",
      "execution_count": null,
      "metadata": {
        "id": "qHKfVz06RsVH"
      },
      "outputs": [],
      "source": [
        "true_labels = np.argmax(y_test, axis=1)\n"
      ]
    },
    {
      "cell_type": "code",
      "execution_count": null,
      "metadata": {
        "id": "fEY71NXsRuNR",
        "colab": {
          "base_uri": "https://localhost:8080/"
        },
        "outputId": "ebca50a8-c6a2-487d-cf04-5ac80dab5385"
      },
      "outputs": [
        {
          "output_type": "stream",
          "name": "stdout",
          "text": [
            "              precision    recall  f1-score   support\n",
            "\n",
            "           0       0.98      0.99      0.99       150\n",
            "           1       0.95      1.00      0.97       174\n",
            "           2       1.00      1.00      1.00       182\n",
            "           3       0.99      0.98      0.99       159\n",
            "           4       1.00      1.00      1.00       151\n",
            "           5       0.99      0.94      0.97       142\n",
            "           6       1.00      0.99      0.99       162\n",
            "\n",
            "    accuracy                           0.99      1120\n",
            "   macro avg       0.99      0.99      0.99      1120\n",
            "weighted avg       0.99      0.99      0.99      1120\n",
            "\n"
          ]
        }
      ],
      "source": [
        "from sklearn.metrics import classification_report\n",
        "report = classification_report(true_labels, predicted_labels)\n",
        "print(report)"
      ]
    },
    {
      "cell_type": "code",
      "execution_count": null,
      "metadata": {
        "id": "CgNJ_QjwRwVw",
        "colab": {
          "base_uri": "https://localhost:8080/",
          "height": 446
        },
        "outputId": "977be0a7-8db7-4b8f-df83-34472f7cb734"
      },
      "outputs": [
        {
          "output_type": "display_data",
          "data": {
            "text/plain": [
              "<Figure size 500x400 with 2 Axes>"
            ],
            "image/png": "[encoded data removed]"
          },
          "metadata": {}
        }
      ],
      "source": [
        "from sklearn.metrics import confusion_matrix\n",
        "import seaborn as sns\n",
        "import matplotlib.pyplot as plt\n",
        "conf_matrix = confusion_matrix(true_labels, predicted_labels)\n",
        "\n",
        "# Plot confusion matrix\n",
        "plt.figure(figsize=(5, 4))\n",
        "sns.heatmap(conf_matrix, annot=True, fmt=\"d\", cmap=\"Blues\", xticklabels=enc.categories_[0], yticklabels=enc.categories_[0])\n",
        "plt.xlabel('Predicted Labels')\n",
        "plt.ylabel('True Labels')\n",
        "plt.title('Confusion Matrix')\n",
        "plt.show()"
      ]
    },
    {
      "cell_type": "code",
      "source": [
        "from sklearn.metrics import accuracy_score\n",
        "\n",
        "# Compute accuracy\n",
        "accuracy = accuracy_score(true_labels, predicted_labels)\n",
        "\n",
        "print(\"Accuracy:\", accuracy)\n"
      ],
      "metadata": {
        "colab": {
          "base_uri": "https://localhost:8080/"
        },
        "id": "d27VxJaBCuix",
        "outputId": "badf8d39-fd5f-4447-b534-a58b4a410b81"
      },
      "execution_count": null,
      "outputs": [
        {
          "output_type": "stream",
          "name": "stdout",
          "text": [
            "Accuracy: 0.9875\n"
          ]
        }
      ]
    },
    {
      "cell_type": "code",
      "source": [],
      "metadata": {
        "id": "e6ZntA2ZD2DE"
      },
      "execution_count": null,
      "outputs": []
    }
  ],
  "metadata": {
    "colab": {
      "provenance": []
    },
    "kernelspec": {
      "display_name": "Python 3",
      "name": "python3"
    },
    "language_info": {
      "name": "python"
    }
  },
  "nbformat": 4,
  "nbformat_minor": 0
}